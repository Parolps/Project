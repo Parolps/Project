{
 "cells": [
  {
   "cell_type": "code",
   "execution_count": 29,
   "metadata": {},
   "outputs": [],
   "source": [
    "import pickle\n",
    "import numpy as np\n",
    "import pandas as pd\n",
    "import json\n",
    "\n",
    "test = pd.read_csv(\"data/activity_test_blanked.csv\", header=None)\n",
    "test.columns = [\"uniprot_id\", \"mol_id\", \"activity\"]\n",
    "test[\"mol_id\"] = test[\"mol_id\"].str.strip()\n",
    "\n",
    "train = pd.read_csv(\"data/activity_train.csv\", header=None)\n",
    "train.columns = [\"uniprot_id\", \"mol_id\", \"activity\"]\n",
    "train[\"mol_id\"] = train[\"mol_id\"].str.strip()\n",
    "\n",
    "\n",
    "with open(\"data/mol_bits.pkl\", \"rb\") as f:\n",
    "    data = pickle.load(f)\n",
    "\n",
    "with open(\"buckets.json\", \"r\") as f:\n",
    "    buckets = json.load(f)"
   ]
  },
  {
   "cell_type": "code",
   "execution_count": 6,
   "metadata": {},
   "outputs": [],
   "source": [
    "def jaccard_similarity(ids):\n",
    "    id1, id2 = ids\n",
    "    set1 = set(data[id1])\n",
    "    set2 = set(data[id2])\n",
    "    return len(set1.intersection(set2)) / len(set1.union(set2))"
   ]
  },
  {
   "cell_type": "markdown",
   "metadata": {},
   "source": [
    "## Collaborative filtering \n",
    "\n",
    "$$r_{xi} = \\frac{\\sum_{j \\in N(i;x)}S_{ij} \\,\\cdot\\, r_{xj}}{\\sum_{j \\in N(i;x)}S_{ij}}$$"
   ]
  },
  {
   "cell_type": "code",
   "execution_count": 20,
   "metadata": {},
   "outputs": [
    {
     "data": {
      "text/plain": [
       "[('CHEMBL512773', 0.0738255033557047),\n",
       " ('CHEMBL261381', 0.7236842105263158),\n",
       " ('CHEMBL359850', 0.14285714285714285),\n",
       " ('CHEMBL208550', 0.09243697478991597),\n",
       " ('CHEMBL2380381', 0.11450381679389313),\n",
       " ('CHEMBL4455788', 0.10344827586206896),\n",
       " ('CHEMBL372119', 0.08870967741935484),\n",
       " ('CHEMBL4871588', 0.08547008547008547),\n",
       " ('CHEMBL15478', 0.19298245614035087),\n",
       " ('CHEMBL3659176', 0.07462686567164178),\n",
       " ('CHEMBL214390', 0.12222222222222222),\n",
       " ('CHEMBL3260800', 0.09243697478991597),\n",
       " ('CHEMBL426660', 0.09090909090909091),\n",
       " ('CHEMBL572708', 0.06569343065693431),\n",
       " ('CHEMBL3695402', 0.09848484848484848),\n",
       " ('CHEMBL161126', 0.09230769230769231),\n",
       " ('CHEMBL1076684', 0.08264462809917356),\n",
       " ('CHEMBL3639580', 0.08888888888888889),\n",
       " ('CHEMBL2013215', 0.11023622047244094),\n",
       " ('CHEMBL101483', 0.1)]"
      ]
     },
     "execution_count": 20,
     "metadata": {},
     "output_type": "execute_result"
    }
   ],
   "source": [
    "buckets[\"87760\"]\n",
    "\n",
    "ref = \"CHEMBL259255\"\n",
    "sims = []\n",
    "for prot in buckets[\"87760\"]:\n",
    "    if prot != ref:\n",
    "        sims.append((prot, jaccard_similarity((ref, prot))))\n",
    "\n",
    "sims"
   ]
  },
  {
   "cell_type": "code",
   "execution_count": null,
   "metadata": {},
   "outputs": [],
   "source": []
  }
 ],
 "metadata": {
  "kernelspec": {
   "display_name": "DM",
   "language": "python",
   "name": "python3"
  },
  "language_info": {
   "codemirror_mode": {
    "name": "ipython",
    "version": 3
   },
   "file_extension": ".py",
   "mimetype": "text/x-python",
   "name": "python",
   "nbconvert_exporter": "python",
   "pygments_lexer": "ipython3",
   "version": "3.11.8"
  }
 },
 "nbformat": 4,
 "nbformat_minor": 2
}
