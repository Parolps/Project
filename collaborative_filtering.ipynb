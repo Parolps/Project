{
 "cells": [
  {
   "cell_type": "code",
   "execution_count": 1,
   "metadata": {},
   "outputs": [],
   "source": [
    "import json\n",
    "import pickle\n",
    "import numpy as np\n",
    "import pandas as pd\n",
    "from utils import *\n",
    "\n",
    "with open(\"data/results/buckets.pkl\", \"rb\") as f:\n",
    "    buckets = pickle.load(f)\n",
    "\n",
    "with open(\"data/mol_bits.pkl\", \"rb\") as f:\n",
    "    mol_bits = pickle.load(f)\n",
    "\n",
    "with open(\"data/results/test_mols_neighbors.pkl\", \"rb\") as f:\n",
    "    test_mols_neighbors = pickle.load(f)\n",
    "\n",
    "\n",
    "train = pd.read_csv(\"data/activity_train.csv\", header=None)\n",
    "train.columns = [\"uniprot_id\", \"mol_id\", \"activity\"]\n",
    "train[\"mol_id\"] = train[\"mol_id\"].astype(str).str.strip()\n",
    "\n",
    "train_pivot = train.pivot(\n",
    "    index=\"uniprot_id\", columns=\"mol_id\", values=\"activity\"\n",
    ").fillna(0)\n",
    "\n",
    "mol_ids = list(mol_bits.keys())\n",
    "prot_ids = list(train[\"uniprot_id\"].unique())"
   ]
  },
  {
   "cell_type": "markdown",
   "metadata": {},
   "source": [
    "# Baseline Estimation for CF\n",
    "- Define similarity $s_{ij}$ of molecules i and j.\n",
    "- Select k nearest neighbors N(i;x).\n",
    "    - Molecules most similar to i, that have activity on protein x.\n",
    "- Estimate rating $r_{xi}$ as the weighted average:\n",
    "\n",
    "$$ r_{xi} = b_{xi} + \\frac{\\sum_{j\\in N(i;x)} S_{ij} \\cdot (r_{xj} - b_{xj})}{\\sum_{j\\in N(i;x)} s_{ij}} $$\n",
    "Where $b_{xi}$ is the baseline estimate for $r_{xi}$:\n",
    "$$ b_{xi} = \\mu + b_x + b_i $$\n",
    "\n",
    "- $\\mu$ - overall mean protein activity\n",
    "- $b_x$ - activity deviation of molecule x (molecule bias)\n",
    "- $b_i$ - activity deviation of protein i (protein bias)\n"
   ]
  },
  {
   "cell_type": "markdown",
   "metadata": {},
   "source": [
    "## Obtaining $b_{xi}$"
   ]
  },
  {
   "cell_type": "code",
   "execution_count": 2,
   "metadata": {},
   "outputs": [],
   "source": [
    "mu = train_pivot.mean(axis=1).mean()\n",
    "bx = train_pivot.mean(axis=0) - mu\n",
    "bi = train_pivot.mean(axis=1) - mu\n",
    "\n",
    "bxi = pd.DataFrame(\n",
    "    np.full(train_pivot.shape, mu), index=train_pivot.index, columns=train_pivot.columns\n",
    ")\n",
    "for i, row in train_pivot.iterrows():\n",
    "    bxi.loc[i] = mu + bx + bi.loc[i]"
   ]
  },
  {
   "cell_type": "code",
   "execution_count": 3,
   "metadata": {},
   "outputs": [
    {
     "data": {
      "text/plain": [
       "0.5274407791195926"
      ]
     },
     "execution_count": 3,
     "metadata": {},
     "output_type": "execute_result"
    }
   ],
   "source": [
    "# MSE\n",
    "\n",
    "masked_MSE(bxi.values, train_pivot.values)"
   ]
  },
  {
   "cell_type": "markdown",
   "metadata": {},
   "source": [
    "## Similarities and Nearest Neighbors\n",
    "\n",
    "- Jaccard similarity - $J(A, B) = \\frac{A \\cap B}{ A \\cup B}$\n",
    "- Find in each bucket, the top k highest similarity neighbors.\n"
   ]
  },
  {
   "cell_type": "code",
   "execution_count": 4,
   "metadata": {},
   "outputs": [],
   "source": [
    "K = 60\n",
    "L = 0.1\n",
    "R = train_pivot.values\n",
    "\n",
    "P, Q, mses_final = Reg_SGD(R, epochs=150, k=K, seed=42, LR=0.001, Lp=L, Lq=L)"
   ]
  },
  {
   "cell_type": "code",
   "execution_count": 10,
   "metadata": {},
   "outputs": [
    {
     "data": {
      "text/plain": [
       "0.4401520085678894"
      ]
     },
     "execution_count": 10,
     "metadata": {},
     "output_type": "execute_result"
    }
   ],
   "source": [
    "masked_MSE(R, P @ Q)"
   ]
  },
  {
   "cell_type": "code",
   "execution_count": 15,
   "metadata": {},
   "outputs": [
    {
     "data": {
      "text/html": [
       "<div>\n",
       "<style scoped>\n",
       "    .dataframe tbody tr th:only-of-type {\n",
       "        vertical-align: middle;\n",
       "    }\n",
       "\n",
       "    .dataframe tbody tr th {\n",
       "        vertical-align: top;\n",
       "    }\n",
       "\n",
       "    .dataframe thead th {\n",
       "        text-align: right;\n",
       "    }\n",
       "</style>\n",
       "<table border=\"1\" class=\"dataframe\">\n",
       "  <thead>\n",
       "    <tr style=\"text-align: right;\">\n",
       "      <th></th>\n",
       "      <th>uniprot_id</th>\n",
       "      <th>mol_id</th>\n",
       "      <th>activity</th>\n",
       "    </tr>\n",
       "  </thead>\n",
       "  <tbody>\n",
       "    <tr>\n",
       "      <th>127208</th>\n",
       "      <td>Q99705</td>\n",
       "      <td>CHEMBL209109</td>\n",
       "      <td>8</td>\n",
       "    </tr>\n",
       "    <tr>\n",
       "      <th>34158</th>\n",
       "      <td>P21554</td>\n",
       "      <td>CHEMBL3950235</td>\n",
       "      <td>1</td>\n",
       "    </tr>\n",
       "    <tr>\n",
       "      <th>108257</th>\n",
       "      <td>P41594</td>\n",
       "      <td>CHEMBL3603910</td>\n",
       "      <td>1</td>\n",
       "    </tr>\n",
       "    <tr>\n",
       "      <th>96976</th>\n",
       "      <td>P35462</td>\n",
       "      <td>CHEMBL3959698</td>\n",
       "      <td>10</td>\n",
       "    </tr>\n",
       "    <tr>\n",
       "      <th>116476</th>\n",
       "      <td>P49286</td>\n",
       "      <td>CHEMBL4084568</td>\n",
       "      <td>10</td>\n",
       "    </tr>\n",
       "    <tr>\n",
       "      <th>...</th>\n",
       "      <td>...</td>\n",
       "      <td>...</td>\n",
       "      <td>...</td>\n",
       "    </tr>\n",
       "    <tr>\n",
       "      <th>86393</th>\n",
       "      <td>P35367</td>\n",
       "      <td>CHEMBL1193187</td>\n",
       "      <td>8</td>\n",
       "    </tr>\n",
       "    <tr>\n",
       "      <th>31744</th>\n",
       "      <td>P21554</td>\n",
       "      <td>CHEMBL229698</td>\n",
       "      <td>8</td>\n",
       "    </tr>\n",
       "    <tr>\n",
       "      <th>14664</th>\n",
       "      <td>P0DMS8</td>\n",
       "      <td>CHEMBL383144</td>\n",
       "      <td>7</td>\n",
       "    </tr>\n",
       "    <tr>\n",
       "      <th>32020</th>\n",
       "      <td>P21554</td>\n",
       "      <td>CHEMBL408174</td>\n",
       "      <td>1</td>\n",
       "    </tr>\n",
       "    <tr>\n",
       "      <th>122920</th>\n",
       "      <td>Q05397</td>\n",
       "      <td>CHEMBL1996817</td>\n",
       "      <td>1</td>\n",
       "    </tr>\n",
       "  </tbody>\n",
       "</table>\n",
       "<p>1000 rows × 3 columns</p>\n",
       "</div>"
      ],
      "text/plain": [
       "       uniprot_id         mol_id  activity\n",
       "127208     Q99705   CHEMBL209109         8\n",
       "34158      P21554  CHEMBL3950235         1\n",
       "108257     P41594  CHEMBL3603910         1\n",
       "96976      P35462  CHEMBL3959698        10\n",
       "116476     P49286  CHEMBL4084568        10\n",
       "...           ...            ...       ...\n",
       "86393      P35367  CHEMBL1193187         8\n",
       "31744      P21554   CHEMBL229698         8\n",
       "14664      P0DMS8   CHEMBL383144         7\n",
       "32020      P21554   CHEMBL408174         1\n",
       "122920     Q05397  CHEMBL1996817         1\n",
       "\n",
       "[1000 rows x 3 columns]"
      ]
     },
     "execution_count": 15,
     "metadata": {},
     "output_type": "execute_result"
    }
   ],
   "source": [
    "train.sample(1000, random_state=42)"
   ]
  },
  {
   "cell_type": "code",
   "execution_count": 23,
   "metadata": {},
   "outputs": [
    {
     "data": {
      "text/plain": [
       "((144, 60), (60, 72632))"
      ]
     },
     "execution_count": 23,
     "metadata": {},
     "output_type": "execute_result"
    }
   ],
   "source": [
    "P.shape, Q.shape"
   ]
  },
  {
   "cell_type": "code",
   "execution_count": 34,
   "metadata": {},
   "outputs": [
    {
     "data": {
      "text/plain": [
       "0.06333157868769368"
      ]
     },
     "execution_count": 34,
     "metadata": {},
     "output_type": "execute_result"
    }
   ],
   "source": [
    "prot_ids.index(\"Q99705\"), mol_ids.index(\"CHEMBL209109\")\n",
    "\n",
    "P[prot_ids.index(\"P35367\")] @ Q[:, mol_ids.index(\"CHEMBL1193187\")]"
   ]
  },
  {
   "cell_type": "markdown",
   "metadata": {},
   "source": [
    "## With latent factors "
   ]
  }
 ],
 "metadata": {
  "kernelspec": {
   "display_name": "DM",
   "language": "python",
   "name": "python3"
  },
  "language_info": {
   "codemirror_mode": {
    "name": "ipython",
    "version": 3
   },
   "file_extension": ".py",
   "mimetype": "text/x-python",
   "name": "python",
   "nbconvert_exporter": "python",
   "pygments_lexer": "ipython3",
   "version": "3.11.9"
  }
 },
 "nbformat": 4,
 "nbformat_minor": 2
}
