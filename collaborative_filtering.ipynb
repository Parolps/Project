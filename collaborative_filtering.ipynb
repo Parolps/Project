{
 "cells": [
  {
   "cell_type": "code",
   "execution_count": 3,
   "metadata": {},
   "outputs": [],
   "source": [
    "import json\n",
    "import pickle\n",
    "from scipy.sparse import csr_matrix\n",
    "import numpy as np\n",
    "import pandas as pd\n",
    "\n",
    "with open(\"buckets.json\", \"r\") as f:\n",
    "    buckets = json.load(f)\n",
    "\n",
    "with open(\"data/mol_bits.pkl\", \"rb\") as f:\n",
    "    data = pickle.load(f)\n",
    "\n",
    "with open(\"data/results/test_mols_neighbors.pkl\", \"rb\") as f:\n",
    "    test_mols_neighbors = pickle.load(f)\n",
    "\n",
    "train = pd.read_csv(\"data/activity_train.csv\", header=None)\n",
    "train.columns = [\"uniprot_id\", \"mol_id\", \"activity\"]\n",
    "train[\"mol_id\"] = train[\"mol_id\"].astype(str).str.strip()\n",
    "\n",
    "train_pivot = train.pivot(\n",
    "    index=\"uniprot_id\", columns=\"mol_id\", values=\"activity\"\n",
    ").fillna(0)"
   ]
  },
  {
   "cell_type": "markdown",
   "metadata": {},
   "source": [
    "# Baseline Estimation for CF\n",
    "- Define similarity $s_{ij}$ of molecules i and j.\n",
    "- Select k nearest neighbors N(i;x).\n",
    "    - Molecules most similar to i, that have activity on protein x.\n",
    "- Estimate rating $r_{xi}$ as the weighted average:\n",
    "\n",
    "$$ r_{xi} = b_{xi} + \\frac{\\sum_{j\\in N(i;x)} S_{ij} \\cdot (r_{xj} - b_{xj})}{\\sum_{j\\in N(i;x)} s_{ij}} $$\n",
    "Where $b_{xi}$ is the baseline estimate for $r_{xi}$:\n",
    "$$ b_{xi} = \\mu + b_x + b_i $$\n",
    "\n",
    "- $\\mu$ - overall mean protein activity\n",
    "- $b_x$ - activity deviation of molecule x (molecule bias)\n",
    "- $b_i$ - activity deviation of protein i (protein bias)\n"
   ]
  },
  {
   "cell_type": "markdown",
   "metadata": {},
   "source": [
    "## Obtaining $b_{xi}$"
   ]
  },
  {
   "cell_type": "code",
   "execution_count": 4,
   "metadata": {},
   "outputs": [],
   "source": [
    "mu = train_pivot.mean(axis=1).mean()\n",
    "bx = train_pivot.mean(axis=0) - mu\n",
    "bi = train_pivot.mean(axis=1) - mu\n",
    "\n",
    "bxi = pd.DataFrame(\n",
    "    np.full(train_pivot.shape, mu), index=train_pivot.index, columns=train_pivot.columns\n",
    ")\n",
    "for i, row in train_pivot.iterrows():\n",
    "    bxi.loc[i] = mu + bx + bi.loc[i]"
   ]
  },
  {
   "cell_type": "code",
   "execution_count": 5,
   "metadata": {},
   "outputs": [
    {
     "data": {
      "text/plain": [
       "0.3908519813733769"
      ]
     },
     "execution_count": 5,
     "metadata": {},
     "output_type": "execute_result"
    }
   ],
   "source": [
    "# MSE\n",
    "((bxi.round(0).values - train_pivot.values) ** 2).mean()"
   ]
  },
  {
   "cell_type": "code",
   "execution_count": 8,
   "metadata": {},
   "outputs": [
    {
     "data": {
      "text/plain": [
       "172.31175181251055"
      ]
     },
     "execution_count": 8,
     "metadata": {},
     "output_type": "execute_result"
    }
   ],
   "source": [
    "# masked mse\n",
    "mask = (bxi.round(0).values != 0) * 1\n",
    "\n",
    "mse_masked = ((train_pivot.values - bxi.round(0).values * mask) ** 2).sum() / mask.sum()\n",
    "mse_masked\n",
    "# np.sqrt(mse_masked)"
   ]
  },
  {
   "cell_type": "markdown",
   "metadata": {},
   "source": [
    "## Similarities and Nearest Neighbors\n",
    "\n",
    "- Jaccard similarity - $J(A, B) = \\frac{A \\cap B}{ A \\cup B}$\n",
    "- Find in each bucket, the top k highest similarity neighbors.\n"
   ]
  },
  {
   "cell_type": "code",
   "execution_count": 12,
   "metadata": {},
   "outputs": [
    {
     "data": {
      "text/html": [
       "<div>\n",
       "<style scoped>\n",
       "    .dataframe tbody tr th:only-of-type {\n",
       "        vertical-align: middle;\n",
       "    }\n",
       "\n",
       "    .dataframe tbody tr th {\n",
       "        vertical-align: top;\n",
       "    }\n",
       "\n",
       "    .dataframe thead th {\n",
       "        text-align: right;\n",
       "    }\n",
       "</style>\n",
       "<table border=\"1\" class=\"dataframe\">\n",
       "  <thead>\n",
       "    <tr style=\"text-align: right;\">\n",
       "      <th></th>\n",
       "      <th>uniprot_id</th>\n",
       "      <th>mol_id</th>\n",
       "      <th>activity</th>\n",
       "    </tr>\n",
       "  </thead>\n",
       "  <tbody>\n",
       "    <tr>\n",
       "      <th>0</th>\n",
       "      <td>O14842</td>\n",
       "      <td>CHEMBL2022243</td>\n",
       "      <td>4</td>\n",
       "    </tr>\n",
       "    <tr>\n",
       "      <th>1</th>\n",
       "      <td>O14842</td>\n",
       "      <td>CHEMBL2022244</td>\n",
       "      <td>6</td>\n",
       "    </tr>\n",
       "    <tr>\n",
       "      <th>2</th>\n",
       "      <td>O14842</td>\n",
       "      <td>CHEMBL2022245</td>\n",
       "      <td>2</td>\n",
       "    </tr>\n",
       "    <tr>\n",
       "      <th>3</th>\n",
       "      <td>O14842</td>\n",
       "      <td>CHEMBL2022246</td>\n",
       "      <td>1</td>\n",
       "    </tr>\n",
       "    <tr>\n",
       "      <th>4</th>\n",
       "      <td>O14842</td>\n",
       "      <td>CHEMBL2022247</td>\n",
       "      <td>4</td>\n",
       "    </tr>\n",
       "    <tr>\n",
       "      <th>...</th>\n",
       "      <td>...</td>\n",
       "      <td>...</td>\n",
       "      <td>...</td>\n",
       "    </tr>\n",
       "    <tr>\n",
       "      <th>135706</th>\n",
       "      <td>Q9Y5Y4</td>\n",
       "      <td>CHEMBL4214909</td>\n",
       "      <td>6</td>\n",
       "    </tr>\n",
       "    <tr>\n",
       "      <th>135707</th>\n",
       "      <td>Q9Y5Y4</td>\n",
       "      <td>CHEMBL4218012</td>\n",
       "      <td>2</td>\n",
       "    </tr>\n",
       "    <tr>\n",
       "      <th>135708</th>\n",
       "      <td>Q9Y5Y4</td>\n",
       "      <td>CHEMBL4217503</td>\n",
       "      <td>7</td>\n",
       "    </tr>\n",
       "    <tr>\n",
       "      <th>135709</th>\n",
       "      <td>Q9Y5Y4</td>\n",
       "      <td>CHEMBL4204359</td>\n",
       "      <td>8</td>\n",
       "    </tr>\n",
       "    <tr>\n",
       "      <th>135710</th>\n",
       "      <td>Q9Y5Y4</td>\n",
       "      <td>CHEMBL4209228</td>\n",
       "      <td>6</td>\n",
       "    </tr>\n",
       "  </tbody>\n",
       "</table>\n",
       "<p>135711 rows × 3 columns</p>\n",
       "</div>"
      ],
      "text/plain": [
       "       uniprot_id         mol_id  activity\n",
       "0          O14842  CHEMBL2022243         4\n",
       "1          O14842  CHEMBL2022244         6\n",
       "2          O14842  CHEMBL2022245         2\n",
       "3          O14842  CHEMBL2022246         1\n",
       "4          O14842  CHEMBL2022247         4\n",
       "...           ...            ...       ...\n",
       "135706     Q9Y5Y4  CHEMBL4214909         6\n",
       "135707     Q9Y5Y4  CHEMBL4218012         2\n",
       "135708     Q9Y5Y4  CHEMBL4217503         7\n",
       "135709     Q9Y5Y4  CHEMBL4204359         8\n",
       "135710     Q9Y5Y4  CHEMBL4209228         6\n",
       "\n",
       "[135711 rows x 3 columns]"
      ]
     },
     "execution_count": 12,
     "metadata": {},
     "output_type": "execute_result"
    }
   ],
   "source": [
    "train"
   ]
  },
  {
   "cell_type": "code",
   "execution_count": 4,
   "metadata": {},
   "outputs": [
    {
     "name": "stdout",
     "output_type": "stream",
     "text": [
      "92997\n",
      "15719\n",
      "5294\n",
      "96137\n",
      "56944\n",
      "85665\n",
      "21457\n",
      "7562\n",
      "32023\n",
      "496\n",
      "65645\n",
      "23764\n",
      "43528\n",
      "6992\n",
      "25669\n",
      "1620\n",
      "82128\n",
      "6512\n",
      "95716\n",
      "74642\n",
      "6715\n",
      "82068\n",
      "92333\n",
      "66436\n",
      "92714\n",
      "15917\n",
      "49361\n",
      "30162\n",
      "66442\n",
      "12774\n",
      "51688\n",
      "53651\n",
      "1427\n",
      "48951\n",
      "20690\n",
      "45343\n",
      "37894\n",
      "2143\n",
      "17820\n",
      "13765\n",
      "89928\n",
      "9377\n",
      "36607\n",
      "90024\n",
      "77788\n",
      "30423\n",
      "62567\n",
      "58279\n",
      "5702\n",
      "92511\n"
     ]
    }
   ],
   "source": [
    "for bucket, mols in buckets.items():\n",
    "    if \"CHEMBL10\" in mols:\n",
    "        print(bucket)"
   ]
  }
 ],
 "metadata": {
  "kernelspec": {
   "display_name": "DM",
   "language": "python",
   "name": "python3"
  },
  "language_info": {
   "codemirror_mode": {
    "name": "ipython",
    "version": 3
   },
   "file_extension": ".py",
   "mimetype": "text/x-python",
   "name": "python",
   "nbconvert_exporter": "python",
   "pygments_lexer": "ipython3",
   "version": "3.11.9"
  }
 },
 "nbformat": 4,
 "nbformat_minor": 2
}
