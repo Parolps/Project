{
 "cells": [
  {
   "cell_type": "code",
   "execution_count": 1,
   "metadata": {},
   "outputs": [],
   "source": [
    "import pickle\n",
    "import numpy as np\n",
    "from scipy.sparse import csr_matrix\n",
    "import pandas as pd\n",
    "\n",
    "test = pd.read_csv(\"data/activity_test_blanked.csv\", header=None)\n",
    "test.columns = [\"uniprot_id\", \"mol_id\", \"activity\"]\n",
    "test[\"mol_id\"] = test[\"mol_id\"].str.strip()\n",
    "\n",
    "\n",
    "with open(\"data/mol_bits.pkl\", \"rb\") as f:\n",
    "    data = pickle.load(f)\n",
    "\n",
    "\n",
    "# Extracting unique features for sparse matrix dims\n",
    "all_feats = set()\n",
    "for feats_set in data.values():\n",
    "    all_feats.update(feats_set)\n",
    "\n",
    "n_feats = max(all_feats) + 1  # 0-based indexing\n",
    "\n",
    "# Creating sparse matrix mol feats\n",
    "rows, cols = [], []\n",
    "for i, (uniprot_id, feats_set) in enumerate(data.items()):\n",
    "    rows.extend([i] * len(feats_set))\n",
    "    cols.extend(feats_set)\n",
    "\n",
    "mol_ids = list(data.keys())\n",
    "\n",
    "mol_feats = csr_matrix((np.ones(len(rows)), (rows, cols)), shape=(len(data), n_feats))\n",
    "\n",
    "mol_feats = (\n",
    "    mol_feats.T\n",
    ")  # Transposing to have features as rows / for this to work uncomment this line"
   ]
  },
  {
   "cell_type": "markdown",
   "metadata": {},
   "source": [
    "# LSH implementation\n",
    "- MinHash\n",
    "- Buckets\n"
   ]
  },
  {
   "cell_type": "code",
   "execution_count": 2,
   "metadata": {},
   "outputs": [],
   "source": [
    "import hashlib\n",
    "\n",
    "\n",
    "def create_hash(vector_size=mol_feats.shape[0]):\n",
    "    return np.random.permutation(vector_size)\n",
    "\n",
    "\n",
    "def get_signature_matrix(sparse_mat, sig_size=50):\n",
    "    permutations = np.zeros((sparse_mat.shape[0], sig_size), dtype=int)\n",
    "    for i in range(sig_size):\n",
    "        permutations[:, i] = create_hash()\n",
    "\n",
    "    # signature matrix\n",
    "    signature_matrix = np.zeros((permutations.shape[1], sparse_mat.shape[1]))\n",
    "\n",
    "    # minhashing\n",
    "    for i in range(permutations.shape[1]):\n",
    "        perm = permutations[:, i]\n",
    "        sigs = sparse_mat[perm, :].argmax(axis=0)\n",
    "        signature_matrix[i, :] = sigs\n",
    "\n",
    "    return signature_matrix\n",
    "\n",
    "\n",
    "def split_sig(sig: np.array, b: int):\n",
    "    return np.vsplit(sig, b)\n",
    "\n",
    "\n",
    "def hash_bands_to_buckets(bands, num_buckets=1000):\n",
    "\n",
    "    hashed_bands = {}\n",
    "\n",
    "    n_bands = len(bands)\n",
    "\n",
    "    for i in range(n_bands):\n",
    "        band = bands[i]\n",
    "        for col in range(band.shape[1]):\n",
    "            col_hash = hashlib.sha256(band[:, col].tobytes()).hexdigest()\n",
    "            bucket = int(col_hash, 16) % num_buckets\n",
    "\n",
    "            if bucket not in hashed_bands.keys():\n",
    "                hashed_bands[bucket] = set()\n",
    "            hashed_bands[bucket].add(col)\n",
    "\n",
    "    return hashed_bands\n",
    "\n",
    "\n",
    "def jaccard_similarity(ids):\n",
    "    id1, id2 = ids\n",
    "    set1 = set(data[mol_ids[id1]])\n",
    "    set2 = set(data[mol_ids[id2]])\n",
    "    return len(set1.intersection(set2)) / len(set1.union(set2))\n",
    "\n",
    "\n",
    "def fetch_pairs(buckets, threshold=0.8):\n",
    "    candidates = []\n",
    "    for proteins in buckets.values():\n",
    "        if len(proteins) > 1 and len(proteins) < 3:\n",
    "            sim = jaccard_similarity(tuple(proteins))\n",
    "            if sim >= threshold:\n",
    "                candidates.append(tuple(proteins))\n",
    "    return candidates"
   ]
  },
  {
   "cell_type": "code",
   "execution_count": 3,
   "metadata": {},
   "outputs": [],
   "source": [
    "# SIG\n",
    "SIG = get_signature_matrix(mol_feats, sig_size=300)"
   ]
  },
  {
   "cell_type": "code",
   "execution_count": 4,
   "metadata": {},
   "outputs": [
    {
     "name": "stdout",
     "output_type": "stream",
     "text": [
      "Bands shape: (6, 73865)\n"
     ]
    }
   ],
   "source": [
    "# split signature into bands\n",
    "b = 50\n",
    "bands = split_sig(SIG, b)\n",
    "\n",
    "print(f\"Bands shape: {bands[0].shape}\")\n",
    "\n",
    "# hash bands to buckets\n",
    "# buckets = hash_bands_to_buckets(bands, num_buckets=1_000_000)\n",
    "buckets = hash_bands_to_buckets(bands, num_buckets=1_000_000)\n",
    "\n",
    "# candidates = fetch_pairs(buckets, threshold=0.8)"
   ]
  },
  {
   "cell_type": "code",
   "execution_count": 5,
   "metadata": {},
   "outputs": [
    {
     "data": {
      "text/plain": [
       "1391"
      ]
     },
     "execution_count": 5,
     "metadata": {},
     "output_type": "execute_result"
    }
   ],
   "source": [
    "buckets_names = {k: [mol_ids[i] for i in v] for k, v in buckets.items()}\n",
    "\n",
    "mol_ids_buckets_dict = {\n",
    "    mol_id: bucket for bucket, mol_ids in buckets_names.items() for mol_id in mol_ids\n",
    "}\n",
    "\n",
    "lens = {k: len(v) for k, v in buckets_names.items()}\n",
    "counts = test[\"mol_id\"].map(mol_ids_buckets_dict).map(lens)\n",
    "counts[counts == 1].sum()"
   ]
  },
  {
   "cell_type": "code",
   "execution_count": 6,
   "metadata": {},
   "outputs": [
    {
     "data": {
      "text/plain": [
       "<Axes: ylabel='Density'>"
      ]
     },
     "execution_count": 6,
     "metadata": {},
     "output_type": "execute_result"
    },
    {
     "data": {
      "image/png": "[encoded data removed]",
      "text/plain": [
       "<Figure size 640x480 with 1 Axes>"
      ]
     },
     "metadata": {},
     "output_type": "display_data"
    }
   ],
   "source": [
    "test[\"mol_id\"].map(mol_ids_buckets_dict).map(lens).value_counts().plot.kde()"
   ]
  },
  {
   "cell_type": "code",
   "execution_count": 7,
   "metadata": {},
   "outputs": [
    {
     "data": {
      "text/plain": [
       "count      47.000000\n",
       "mean       98.468085\n",
       "std       262.431594\n",
       "min         1.000000\n",
       "25%         4.000000\n",
       "50%         9.000000\n",
       "75%        40.500000\n",
       "max      1391.000000\n",
       "Name: count, dtype: float64"
      ]
     },
     "execution_count": 7,
     "metadata": {},
     "output_type": "execute_result"
    }
   ],
   "source": [
    "test[\"mol_id\"].map(mol_ids_buckets_dict).map(lens).value_counts().describe()"
   ]
  },
  {
   "cell_type": "code",
   "execution_count": 8,
   "metadata": {},
   "outputs": [
    {
     "data": {
      "text/plain": [
       "<Axes: ylabel='Frequency'>"
      ]
     },
     "execution_count": 8,
     "metadata": {},
     "output_type": "execute_result"
    },
    {
     "data": {
      "image/png": "[encoded data removed]",
      "text/plain": [
       "<Figure size 640x480 with 1 Axes>"
      ]
     },
     "metadata": {},
     "output_type": "display_data"
    }
   ],
   "source": [
    "pd.Series(lens.values()).plot.hist(bins=100)"
   ]
  },
  {
   "cell_type": "code",
   "execution_count": 61,
   "metadata": {},
   "outputs": [
    {
     "name": "stdout",
     "output_type": "stream",
     "text": [
      "['CHEMBL2022244', 'CHEMBL2022245', 'CHEMBL3763779', 'CHEMBL1649938', 'CHEMBL1649939', 'CHEMBL1649940', 'CHEMBL2397877', 'CHEMBL332463', 'CHEMBL68119', 'CHEMBL158941', 'CHEMBL439504', 'CHEMBL2326488', 'CHEMBL4871588', 'CHEMBL333836', 'CHEMBL2152930', 'CHEMBL394823', 'CHEMBL4165036', 'CHEMBL583750', 'CHEMBL2179673', 'CHEMBL154367', 'CHEMBL392185', 'CHEMBL282413', 'CHEMBL3692899', 'CHEMBL106176', 'CHEMBL401867', 'CHEMBL272699', 'CHEMBL257208', 'CHEMBL241076', 'CHEMBL4762416', 'CHEMBL304130', 'CHEMBL339501', 'CHEMBL1095256']\n",
      "32\n"
     ]
    }
   ],
   "source": [
    "## CHEMBL2022244 search in values\n",
    "buck = mol_ids_buckets_dict[\"CHEMBL2022244\"]\n",
    "print(buckets_names[buck])\n",
    "print(len(buckets_names[buck]))"
   ]
  },
  {
   "cell_type": "code",
   "execution_count": 9,
   "metadata": {},
   "outputs": [],
   "source": [
    "## nah try another code pipeline"
   ]
  },
  {
   "cell_type": "code",
   "execution_count": 66,
   "metadata": {},
   "outputs": [],
   "source": [
    "# drop buckets into json file\n",
    "import json\n",
    "\n",
    "# with open(\"buckets.json\", \"w\") as f:\n",
    "#     json.dump(buckets_names, f)"
   ]
  }
 ],
 "metadata": {
  "kernelspec": {
   "display_name": "DM",
   "language": "python",
   "name": "python3"
  },
  "language_info": {
   "codemirror_mode": {
    "name": "ipython",
    "version": 3
   },
   "file_extension": ".py",
   "mimetype": "text/x-python",
   "name": "python",
   "nbconvert_exporter": "python",
   "pygments_lexer": "ipython3",
   "version": "3.11.9"
  }
 },
 "nbformat": 4,
 "nbformat_minor": 2
}
